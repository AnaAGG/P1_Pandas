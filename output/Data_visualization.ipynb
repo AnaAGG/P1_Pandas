{
 "cells": [
  {
   "cell_type": "code",
   "execution_count": 1,
   "metadata": {},
   "outputs": [],
   "source": [
    "import pandas as pd\n",
    "import numpy as np\n",
    "import matplotlib.pyplot as plt\n",
    "import seaborn as sns\n",
    "\n",
    "import sys\n",
    "sys.path.append('../')"
   ]
  },
  {
   "cell_type": "code",
   "execution_count": 2,
   "metadata": {},
   "outputs": [
    {
     "data": {
      "text/html": [
       "<div>\n",
       "<style scoped>\n",
       "    .dataframe tbody tr th:only-of-type {\n",
       "        vertical-align: middle;\n",
       "    }\n",
       "\n",
       "    .dataframe tbody tr th {\n",
       "        vertical-align: top;\n",
       "    }\n",
       "\n",
       "    .dataframe thead th {\n",
       "        text-align: right;\n",
       "    }\n",
       "</style>\n",
       "<table border=\"1\" class=\"dataframe\">\n",
       "  <thead>\n",
       "    <tr style=\"text-align: right;\">\n",
       "      <th></th>\n",
       "      <th>Unnamed: 0</th>\n",
       "      <th>Date</th>\n",
       "      <th>Year</th>\n",
       "      <th>Type</th>\n",
       "      <th>Country</th>\n",
       "      <th>Area</th>\n",
       "      <th>Location</th>\n",
       "      <th>Activity</th>\n",
       "      <th>Sex</th>\n",
       "      <th>Age</th>\n",
       "      <th>Fatal_(Y/N)</th>\n",
       "      <th>Time</th>\n",
       "      <th>Species</th>\n",
       "      <th>original_order</th>\n",
       "      <th>Continent</th>\n",
       "    </tr>\n",
       "  </thead>\n",
       "  <tbody>\n",
       "    <tr>\n",
       "      <th>0</th>\n",
       "      <td>0</td>\n",
       "      <td>Jun</td>\n",
       "      <td>2018.0</td>\n",
       "      <td>Boat</td>\n",
       "      <td>usa</td>\n",
       "      <td>California</td>\n",
       "      <td>Oceanside, San Diego County</td>\n",
       "      <td>Rare_act.</td>\n",
       "      <td>F</td>\n",
       "      <td>57.0</td>\n",
       "      <td>N</td>\n",
       "      <td>night</td>\n",
       "      <td>White shark</td>\n",
       "      <td>6303.0</td>\n",
       "      <td>North_America</td>\n",
       "    </tr>\n",
       "    <tr>\n",
       "      <th>1</th>\n",
       "      <td>1</td>\n",
       "      <td>Jun</td>\n",
       "      <td>2018.0</td>\n",
       "      <td>Unprovoked</td>\n",
       "      <td>usa</td>\n",
       "      <td>Georgia</td>\n",
       "      <td>St. Simon Island, Glynn County</td>\n",
       "      <td>Seashore</td>\n",
       "      <td>F</td>\n",
       "      <td>11.0</td>\n",
       "      <td>N</td>\n",
       "      <td>afternoon</td>\n",
       "      <td>Unespcific</td>\n",
       "      <td>6302.0</td>\n",
       "      <td>North_America</td>\n",
       "    </tr>\n",
       "    <tr>\n",
       "      <th>2</th>\n",
       "      <td>2</td>\n",
       "      <td>Jun</td>\n",
       "      <td>2018.0</td>\n",
       "      <td>Invalid</td>\n",
       "      <td>usa</td>\n",
       "      <td>Hawaii</td>\n",
       "      <td>Habush, Oahu</td>\n",
       "      <td>Surf</td>\n",
       "      <td>M</td>\n",
       "      <td>48.0</td>\n",
       "      <td>N</td>\n",
       "      <td>day-morning</td>\n",
       "      <td>Unespcific</td>\n",
       "      <td>6301.0</td>\n",
       "      <td>North_America</td>\n",
       "    </tr>\n",
       "    <tr>\n",
       "      <th>6</th>\n",
       "      <td>6</td>\n",
       "      <td>Jun</td>\n",
       "      <td>2018.0</td>\n",
       "      <td>Unprovoked</td>\n",
       "      <td>brazil</td>\n",
       "      <td>Pernambuco</td>\n",
       "      <td>Piedade Beach, Recife</td>\n",
       "      <td>Swim</td>\n",
       "      <td>M</td>\n",
       "      <td>18.0</td>\n",
       "      <td>Y</td>\n",
       "      <td>afternoon</td>\n",
       "      <td>Tiger shark</td>\n",
       "      <td>6297.0</td>\n",
       "      <td>South_America</td>\n",
       "    </tr>\n",
       "    <tr>\n",
       "      <th>8</th>\n",
       "      <td>8</td>\n",
       "      <td>May</td>\n",
       "      <td>2018.0</td>\n",
       "      <td>Unprovoked</td>\n",
       "      <td>usa</td>\n",
       "      <td>Florida</td>\n",
       "      <td>Cocoa Beach, Brevard  County</td>\n",
       "      <td>Seashore</td>\n",
       "      <td>M</td>\n",
       "      <td>15.0</td>\n",
       "      <td>N</td>\n",
       "      <td>afternoon</td>\n",
       "      <td>Lemon shark</td>\n",
       "      <td>6295.0</td>\n",
       "      <td>North_America</td>\n",
       "    </tr>\n",
       "  </tbody>\n",
       "</table>\n",
       "</div>"
      ],
      "text/plain": [
       "   Unnamed: 0 Date    Year        Type Country        Area  \\\n",
       "0           0  Jun  2018.0        Boat     usa  California   \n",
       "1           1  Jun  2018.0  Unprovoked     usa     Georgia   \n",
       "2           2  Jun  2018.0     Invalid     usa      Hawaii   \n",
       "6           6  Jun  2018.0  Unprovoked  brazil  Pernambuco   \n",
       "8           8  May  2018.0  Unprovoked     usa     Florida   \n",
       "\n",
       "                         Location   Activity Sex   Age Fatal_(Y/N)  \\\n",
       "0     Oceanside, San Diego County  Rare_act.   F  57.0           N   \n",
       "1  St. Simon Island, Glynn County   Seashore   F  11.0           N   \n",
       "2                    Habush, Oahu       Surf   M  48.0           N   \n",
       "6           Piedade Beach, Recife       Swim   M  18.0           Y   \n",
       "8    Cocoa Beach, Brevard  County   Seashore   M  15.0           N   \n",
       "\n",
       "          Time      Species  original_order      Continent  \n",
       "0        night  White shark          6303.0  North_America  \n",
       "1    afternoon   Unespcific          6302.0  North_America  \n",
       "2  day-morning   Unespcific          6301.0  North_America  \n",
       "6    afternoon  Tiger shark          6297.0  South_America  \n",
       "8    afternoon  Lemon shark          6295.0  North_America  "
      ]
     },
     "execution_count": 2,
     "metadata": {},
     "output_type": "execute_result"
    }
   ],
   "source": [
    "df = pd.read_csv(\"../output/Final_Dataset.csv\",encoding = \"ISO-8859-1\")\n",
    "df = df.dropna()\n",
    "df.head(5)"
   ]
  },
  {
   "cell_type": "markdown",
   "metadata": {},
   "source": [
    "# Testing hypothesis:\n",
    " "
   ]
  },
  {
   "cell_type": "markdown",
   "metadata": {},
   "source": [
    "### 1. What is the continent with more sharks attacks in 2018?"
   ]
  },
  {
   "cell_type": "code",
   "execution_count": null,
   "metadata": {},
   "outputs": [],
   "source": [
    "attacks_y_c = df.groupby(['Year','Continent'])[['Type']].count()\n",
    "attacks_y_c = attacks_y_c.sort_values(['Year','Type'], ascending=[False,False])\n",
    "attacks_y_c.rename(columns={'Type':'Attacks'}, inplace=True)\n"
   ]
  },
  {
   "cell_type": "markdown",
   "metadata": {},
   "source": [
    "#### 1.1 Which continent had most attacks reported? (regardless of the  year)"
   ]
  },
  {
   "cell_type": "code",
   "execution_count": null,
   "metadata": {},
   "outputs": [],
   "source": [
    "continents = ['O', 'CA', 'SA','NA', 'Af', 'As', 'E']\n",
    "plt.figure(figsize=(20,10)) \n",
    "\n",
    "sns.set(style=\"whitegrid\", font_scale = 1.5) # to change the size of letters\n",
    "\n",
    "ax = sns.countplot(x=\"Continent\", palette=\"mako\",  data = df[-(df.Continent == ('Unknown'))])\n",
    "ax.set_xticklabels(continents)\n",
    "\n",
    "def propotions(plot, feature):\n",
    "    total = len(feature)\n",
    "    for p in plot.patches:\n",
    "        percentage = '{:.1f}%'.format(100 * p.get_height()/total)\n",
    "        x = p.get_x() + p.get_width() / 2 - 0.05\n",
    "        y = p.get_y() + p.get_height()\n",
    "        ax.annotate(percentage, (x, y), size = 12)\n",
    "    plt.show()\n",
    "\n",
    "propotions(ax, df.Continent)\n",
    "\n",
    "ax.figure.savefig(\"continent.jpg\", dpi=300)"
   ]
  },
  {
   "cell_type": "markdown",
   "metadata": {},
   "source": [
    "###### 1.2 There are some relationship between type of activity and continent? "
   ]
  },
  {
   "cell_type": "code",
   "execution_count": null,
   "metadata": {},
   "outputs": [],
   "source": [
    "plt.figure(figsize=(20,10))\n",
    "plt.style.use('_classic_test')\n",
    "\n",
    "\n",
    "ax = sns.countplot(x=\"Continent\", hue = \"Activity\", palette=\"tab10\",  data = df[-(df.Continent == ('Unknown'))])\n",
    "ax.set_xticklabels(continents)\n",
    "\n",
    "plt.legend(bbox_to_anchor=(1, 1), bbox_transform=ax.transAxes)\n",
    "\n",
    "ax.figure.savefig(\"continent_vs_activity.jpg\", dpi=300)"
   ]
  },
  {
   "cell_type": "markdown",
   "metadata": {},
   "source": [
    "In the figure we could see that the main attacks occur during surfing activities followed by swiming activities. "
   ]
  },
  {
   "cell_type": "markdown",
   "metadata": {},
   "source": [
    "### 2. Are there more attacks on men or women?\n",
    "What gender was more commonly attacked?"
   ]
  },
  {
   "cell_type": "code",
   "execution_count": null,
   "metadata": {},
   "outputs": [],
   "source": [
    "plt.figure(figsize=(20,10))\n",
    "plt.style.use('_classic_test')\n",
    "\n",
    "age = sns.histplot(x = \"Age\", data = df, palette = \"mako\")"
   ]
  },
  {
   "cell_type": "code",
   "execution_count": null,
   "metadata": {},
   "outputs": [],
   "source": [
    "plt.figure(figsize=(20,10))\n",
    "plt.style.use('_classic_test')\n",
    "plt.figure(facecolor=\"white\")\n",
    "\n",
    "print(plt.style.available) # to get all the styles in matplotlib\n",
    "\n",
    "'''\n",
    "['bmh', 'classic', 'dark_background', 'fast', 'fivethirtyeight', 'ggplot', 'grayscale', 'seaborn-bright', 'seaborn-colorblind', \n",
    "'seaborn-dark-palette', 'seaborn-dark', 'seaborn-darkgrid', 'seaborn-deep', 'seaborn-muted', 'seaborn-notebook', 'seaborn-paper',\n",
    "'seaborn-pastel', 'seaborn-poster', 'seaborn-talk', 'seaborn-ticks', 'seaborn-white', 'seaborn-whitegrid', 'seaborn',\n",
    "'Solarize_Light2', 'tableau-colorblind10', '_classic_test']\n",
    " '''\n",
    "\n",
    "gender = sns.countplot(x = \"Sex\", data = df, palette = \"mako\")\n",
    "gender.figure.savefig(\"gender.jpg\", dpi=300)"
   ]
  },
  {
   "cell_type": "markdown",
   "metadata": {},
   "source": [
    "###### 3.1 There are differences between Fatal attack and sex? "
   ]
  },
  {
   "cell_type": "code",
   "execution_count": null,
   "metadata": {},
   "outputs": [],
   "source": [
    "plt.figure(figsize=(20,10)) \n",
    "plt.style.use('_classic_test')\n",
    "plt.figure(facecolor=\"white\")\n",
    "fatal = ['No', 'Yes']\n",
    "\n",
    "\n",
    "print(plt.style.available)\n",
    "ax2= sns.countplot(data=df, x=\"Fatal_(Y/N)\", hue=\"Sex\", palette = \"rocket\")\n",
    "\n",
    "# Hide the right and top spines\n",
    "ax2.spines['right'].set_visible(False)\n",
    "ax2.spines['top'].set_visible(False)\n",
    "ax2.set_xticklabels(fatal)\n",
    "ax2.set_xlabel('Fatal Attack')\n"
   ]
  },
  {
   "cell_type": "code",
   "execution_count": null,
   "metadata": {},
   "outputs": [],
   "source": [
    "plt.figure(figsize=(20,10)) \n",
    "plt.style.use('_classic_test')\n",
    "plt.figure(facecolor=\"white\")\n",
    "\n",
    "ax3 = sns.countplot(x = \"Time\", data = df, palette = \"YlOrBr_r\") # la \"r\" despues de YlOrBr es para invertir la paleta\n",
    "\n",
    "#To remove the top and right axis:\n",
    "ax3.spines['right'].set_visible(False)\n",
    "ax3.spines['top'].set_visible(False)\n",
    "\n",
    "#To remove top and right ticks\n",
    "plt.tick_params(axis = \"x\", which = \"both\", bottom = True, top = False)\n",
    "plt.tick_params(axis = \"y\", which = \"both\", bottom = True, right= False)\n",
    "\n",
    "ax3.figure.savefig(\"time.jpg\", dpi=300)"
   ]
  },
  {
   "cell_type": "markdown",
   "metadata": {},
   "source": [
    "###### 3.2 Relation of species with some variables"
   ]
  },
  {
   "cell_type": "code",
   "execution_count": 18,
   "metadata": {},
   "outputs": [
    {
     "data": {
      "text/plain": [
       "<Figure size 1600x800 with 0 Axes>"
      ]
     },
     "metadata": {},
     "output_type": "display_data"
    },
    {
     "data": {
      "image/png": "[encoded data removed]",
      "text/plain": [
       "<Figure size 640x480 with 1 Axes>"
      ]
     },
     "metadata": {},
     "output_type": "display_data"
    }
   ],
   "source": [
    "##### SPECIES VS TYPE OF ATTACK #####\n",
    "plt.figure(figsize=(20,10)) \n",
    "plt.style.use('_classic_test')\n",
    "plt.figure(facecolor=\"white\")\n",
    "\n",
    "fig = sns.countplot(x = \"Species\", hue = \"Type\", palette = \"mako\", data = df[-(df.Type == ('Unprovoked'))])\n",
    "\n",
    "fig.spines['right'].set_visible(False)\n",
    "fig.spines['top'].set_visible(False)\n",
    "plt.tick_params(axis = \"x\", which = \"both\", bottom = True, top = False)\n",
    "plt.tick_params(axis = \"y\", which = \"both\", bottom = True, right= False)\n",
    "\n",
    "fig.figure.savefig(\"Species_vs_Typeattack.jpg\", dpi=300)"
   ]
  },
  {
   "cell_type": "raw",
   "metadata": {},
   "source": [
    "In general, the sharks attacks are provoked for all species excet for Whithe shark that attack more to boats."
   ]
  },
  {
   "cell_type": "code",
   "execution_count": 21,
   "metadata": {},
   "outputs": [
    {
     "data": {
      "text/plain": [
       "<Figure size 1600x800 with 0 Axes>"
      ]
     },
     "metadata": {},
     "output_type": "display_data"
    },
    {
     "data": {
      "image/png": "[encoded data removed]",
      "text/plain": [
       "<Figure size 640x480 with 1 Axes>"
      ]
     },
     "metadata": {},
     "output_type": "display_data"
    }
   ],
   "source": [
    "##### SPECIES VS FATAL #####\n",
    "plt.figure(figsize=(20,10)) \n",
    "plt.style.use('_classic_test')\n",
    "plt.figure(facecolor=\"white\")\n",
    "\n",
    "fig = sns.countplot(x = \"Species\", hue = \"Fatal_(Y/N)\",palette = \"mako\", data = df)\n",
    "\n",
    "fig.spines['right'].set_visible(False)\n",
    "fig.spines['top'].set_visible(False)\n",
    "plt.tick_params(axis = \"x\", which = \"both\", bottom = True, top = False)\n",
    "plt.tick_params(axis = \"y\", which = \"both\", bottom = True, right= False)\n",
    "\n",
    "fig.figure.savefig(\"Species_vs_Fatal.jpg\", dpi=300)"
   ]
  },
  {
   "cell_type": "markdown",
   "metadata": {},
   "source": [
    "Regardless of species, attacks are not letha"
   ]
  },
  {
   "cell_type": "code",
   "execution_count": 24,
   "metadata": {},
   "outputs": [
    {
     "data": {
      "text/plain": [
       "<Figure size 1600x800 with 0 Axes>"
      ]
     },
     "metadata": {},
     "output_type": "display_data"
    },
    {
     "data": {
      "image/png": "[encoded data removed]",
      "text/plain": [
       "<Figure size 640x480 with 1 Axes>"
      ]
     },
     "metadata": {},
     "output_type": "display_data"
    }
   ],
   "source": [
    "##### SPECIES VS TIME #####\n",
    "plt.figure(figsize=(20,10)) \n",
    "plt.style.use('_classic_test')\n",
    "plt.figure(facecolor=\"white\")\n",
    "\n",
    "fig = sns.countplot(x = \"Species\", hue = \"Time\", palette = \"viridis\", data = df)\n",
    "\n",
    "fig.spines['right'].set_visible(False)\n",
    "fig.spines['top'].set_visible(False)\n",
    "plt.tick_params(axis = \"x\", which = \"both\", bottom = True, top = False)\n",
    "plt.tick_params(axis = \"y\", which = \"both\", bottom = True, right= False)\n",
    "\n",
    "plt.legend(bbox_to_anchor=(1, 1), bbox_transform=fig.transAxes)\n",
    "\n",
    "fig.figure.savefig(\"Species_vs_Time.jpg\", dpi=300)"
   ]
  },
  {
   "cell_type": "code",
   "execution_count": null,
   "metadata": {},
   "outputs": [],
   "source": []
  }
 ],
 "metadata": {
  "kernelspec": {
   "display_name": "Python 3",
   "language": "python",
   "name": "python3"
  },
  "language_info": {
   "codemirror_mode": {
    "name": "ipython",
    "version": 3
   },
   "file_extension": ".py",
   "mimetype": "text/x-python",
   "name": "python",
   "nbconvert_exporter": "python",
   "pygments_lexer": "ipython3",
   "version": "3.6.5"
  }
 },
 "nbformat": 4,
 "nbformat_minor": 2
}
